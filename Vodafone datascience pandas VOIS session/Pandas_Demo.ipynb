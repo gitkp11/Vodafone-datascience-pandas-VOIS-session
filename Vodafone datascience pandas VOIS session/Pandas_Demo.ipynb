{
 "cells": [
  {
   "cell_type": "code",
   "execution_count": 36,
   "metadata": {},
   "outputs": [],
   "source": [
    "#Import Numpy\n",
    "import numpy as np\n",
    "#Import pandas\n",
    "import pandas as pd"
   ]
  },
  {
   "cell_type": "code",
   "execution_count": 38,
   "metadata": {},
   "outputs": [
    {
     "data": {
      "text/plain": [
       "a    10\n",
       "b    20\n",
       "c    30\n",
       "d    40\n",
       "e    50\n",
       "dtype: int64"
      ]
     },
     "execution_count": 38,
     "metadata": {},
     "output_type": "execute_result"
    }
   ],
   "source": [
    "#Convert list into series of elements\n",
    "l = [10,20,30,40,50]\n",
    "s1 = pd.Series(data = l, index = ['a','b','c','d','e'])\n",
    "s1"
   ]
  },
  {
   "cell_type": "code",
   "execution_count": 39,
   "metadata": {},
   "outputs": [
    {
     "name": "stdout",
     "output_type": "stream",
     "text": [
      "a    10\n",
      "b    20\n",
      "c    30\n",
      "d    40\n",
      "e    50\n",
      "dtype: int64\n"
     ]
    }
   ],
   "source": [
    "print(s1)"
   ]
  },
  {
   "cell_type": "code",
   "execution_count": 40,
   "metadata": {},
   "outputs": [
    {
     "data": {
      "text/plain": [
       "pandas.core.series.Series"
      ]
     },
     "execution_count": 40,
     "metadata": {},
     "output_type": "execute_result"
    }
   ],
   "source": [
    "type(s1)"
   ]
  },
  {
   "cell_type": "code",
   "execution_count": 41,
   "metadata": {},
   "outputs": [
    {
     "data": {
      "text/plain": [
       "a    10\n",
       "b    20\n",
       "c    30\n",
       "d    40\n",
       "e    50\n",
       "dtype: int64"
      ]
     },
     "execution_count": 41,
     "metadata": {},
     "output_type": "execute_result"
    }
   ],
   "source": [
    "#Convert dictionaries into series of elements\n",
    "d = {'a':10,'b':20,'c':30,'d':40,'e':50}\n",
    "s2 = pd.Series(d)\n",
    "s2"
   ]
  },
  {
   "cell_type": "code",
   "execution_count": 6,
   "metadata": {},
   "outputs": [],
   "source": [
    "# print(s2)"
   ]
  },
  {
   "cell_type": "code",
   "execution_count": 7,
   "metadata": {},
   "outputs": [],
   "source": [
    "# type(s2)"
   ]
  },
  {
   "cell_type": "code",
   "execution_count": 44,
   "metadata": {},
   "outputs": [
    {
     "name": "stdout",
     "output_type": "stream",
     "text": [
      "India         1\n",
      "Srilanka      2\n",
      "Bangladesh    3\n",
      "Russia        4\n",
      "dtype: int64\n",
      "India         1\n",
      "Srilanka      2\n",
      "Bangladesh    5\n",
      "Russia        9\n",
      "dtype: int64\n",
      "India          2\n",
      "Srilanka       4\n",
      "Bangladesh     8\n",
      "Russia        13\n",
      "dtype: int64\n"
     ]
    }
   ],
   "source": [
    "#Addition of two series\n",
    "ser1=pd.Series([1,2,3,4],['India','Srilanka', 'Bangladesh', 'Russia'])\n",
    "print(ser1)\n",
    "ser2=pd.Series([1,2,5,9],['India','Srilanka', 'Bangladesh', 'Russia'])\n",
    "print(ser2)\n",
    "print(ser1+ser2)"
   ]
  },
  {
   "cell_type": "code",
   "execution_count": 57,
   "metadata": {},
   "outputs": [
    {
     "data": {
      "text/html": [
       "<div>\n",
       "<style scoped>\n",
       "    .dataframe tbody tr th:only-of-type {\n",
       "        vertical-align: middle;\n",
       "    }\n",
       "\n",
       "    .dataframe tbody tr th {\n",
       "        vertical-align: top;\n",
       "    }\n",
       "\n",
       "    .dataframe thead th {\n",
       "        text-align: right;\n",
       "    }\n",
       "</style>\n",
       "<table border=\"1\" class=\"dataframe\">\n",
       "  <thead>\n",
       "    <tr style=\"text-align: right;\">\n",
       "      <th></th>\n",
       "      <th>W</th>\n",
       "      <th>X</th>\n",
       "      <th>Y</th>\n",
       "      <th>Z</th>\n",
       "    </tr>\n",
       "  </thead>\n",
       "  <tbody>\n",
       "    <tr>\n",
       "      <th>A</th>\n",
       "      <td>-0.462573</td>\n",
       "      <td>-0.345286</td>\n",
       "      <td>-0.601126</td>\n",
       "      <td>-0.272274</td>\n",
       "    </tr>\n",
       "    <tr>\n",
       "      <th>B</th>\n",
       "      <td>1.146369</td>\n",
       "      <td>0.511004</td>\n",
       "      <td>-0.222594</td>\n",
       "      <td>0.421412</td>\n",
       "    </tr>\n",
       "    <tr>\n",
       "      <th>C</th>\n",
       "      <td>0.657211</td>\n",
       "      <td>0.261663</td>\n",
       "      <td>-0.816424</td>\n",
       "      <td>0.418236</td>\n",
       "    </tr>\n",
       "    <tr>\n",
       "      <th>D</th>\n",
       "      <td>-2.795874</td>\n",
       "      <td>-0.074652</td>\n",
       "      <td>-0.164761</td>\n",
       "      <td>1.407457</td>\n",
       "    </tr>\n",
       "    <tr>\n",
       "      <th>E</th>\n",
       "      <td>-0.215099</td>\n",
       "      <td>0.824519</td>\n",
       "      <td>0.695639</td>\n",
       "      <td>0.960054</td>\n",
       "    </tr>\n",
       "  </tbody>\n",
       "</table>\n",
       "</div>"
      ],
      "text/plain": [
       "          W         X         Y         Z\n",
       "A -0.462573 -0.345286 -0.601126 -0.272274\n",
       "B  1.146369  0.511004 -0.222594  0.421412\n",
       "C  0.657211  0.261663 -0.816424  0.418236\n",
       "D -2.795874 -0.074652 -0.164761  1.407457\n",
       "E -0.215099  0.824519  0.695639  0.960054"
      ]
     },
     "execution_count": 57,
     "metadata": {},
     "output_type": "execute_result"
    }
   ],
   "source": [
    "#Create dataframe and select columns\n",
    "#Syntax - pd.DataFrame(data, index_labels , columns_labels)\n",
    "df1 = pd.DataFrame(np.random.randn(5,4),['A','B','C','D','E'],['W','X','Y','Z'])\n",
    "df1"
   ]
  },
  {
   "cell_type": "code",
   "execution_count": 46,
   "metadata": {},
   "outputs": [
    {
     "data": {
      "text/plain": [
       "A    1.184867\n",
       "B    0.028084\n",
       "C   -0.442247\n",
       "D    0.361100\n",
       "E   -2.874047\n",
       "Name: W, dtype: float64"
      ]
     },
     "execution_count": 46,
     "metadata": {},
     "output_type": "execute_result"
    }
   ],
   "source": [
    "#Accessing one column of the dataframe\n",
    "df1['W']"
   ]
  },
  {
   "cell_type": "code",
   "execution_count": 47,
   "metadata": {},
   "outputs": [
    {
     "data": {
      "text/html": [
       "<div>\n",
       "<style scoped>\n",
       "    .dataframe tbody tr th:only-of-type {\n",
       "        vertical-align: middle;\n",
       "    }\n",
       "\n",
       "    .dataframe tbody tr th {\n",
       "        vertical-align: top;\n",
       "    }\n",
       "\n",
       "    .dataframe thead th {\n",
       "        text-align: right;\n",
       "    }\n",
       "</style>\n",
       "<table border=\"1\" class=\"dataframe\">\n",
       "  <thead>\n",
       "    <tr style=\"text-align: right;\">\n",
       "      <th></th>\n",
       "      <th>W</th>\n",
       "      <th>Z</th>\n",
       "    </tr>\n",
       "  </thead>\n",
       "  <tbody>\n",
       "    <tr>\n",
       "      <th>A</th>\n",
       "      <td>1.184867</td>\n",
       "      <td>-0.499954</td>\n",
       "    </tr>\n",
       "    <tr>\n",
       "      <th>B</th>\n",
       "      <td>0.028084</td>\n",
       "      <td>0.758666</td>\n",
       "    </tr>\n",
       "    <tr>\n",
       "      <th>C</th>\n",
       "      <td>-0.442247</td>\n",
       "      <td>-1.570406</td>\n",
       "    </tr>\n",
       "    <tr>\n",
       "      <th>D</th>\n",
       "      <td>0.361100</td>\n",
       "      <td>0.255651</td>\n",
       "    </tr>\n",
       "    <tr>\n",
       "      <th>E</th>\n",
       "      <td>-2.874047</td>\n",
       "      <td>1.252391</td>\n",
       "    </tr>\n",
       "  </tbody>\n",
       "</table>\n",
       "</div>"
      ],
      "text/plain": [
       "          W         Z\n",
       "A  1.184867 -0.499954\n",
       "B  0.028084  0.758666\n",
       "C -0.442247 -1.570406\n",
       "D  0.361100  0.255651\n",
       "E -2.874047  1.252391"
      ]
     },
     "execution_count": 47,
     "metadata": {},
     "output_type": "execute_result"
    }
   ],
   "source": [
    "#Accessing many columns in one go * pay attention that argument is passed as a list of columns names\n",
    "df1[['W','Z']]"
   ]
  },
  {
   "cell_type": "code",
   "execution_count": 50,
   "metadata": {},
   "outputs": [
    {
     "name": "stdout",
     "output_type": "stream",
     "text": [
      "W    1.184867\n",
      "X   -0.260572\n",
      "Y   -1.205792\n",
      "Z   -0.499954\n",
      "Name: A, dtype: float64\n",
      "W    1.184867\n",
      "X   -0.260572\n",
      "Y   -1.205792\n",
      "Z   -0.499954\n",
      "Name: A, dtype: float64\n",
      "          W         Y\n",
      "A  1.184867 -1.205792\n",
      "C -0.442247  1.599957\n"
     ]
    }
   ],
   "source": [
    "#Data selection with loc and iloc\n",
    "\n",
    "#Accessing data with index values - Use loc\n",
    "print(df1.loc[\"A\"])\n",
    "\n",
    "#Acdessing the data with row numbers - use iloc\n",
    "print(df1.iloc[0])\n",
    "\n",
    "#Access a block through your dataframe OR lets say subset the data\n",
    "print(df1.loc[['A','C'],['W','Y']])"
   ]
  },
  {
   "cell_type": "code",
   "execution_count": 51,
   "metadata": {},
   "outputs": [
    {
     "data": {
      "text/html": [
       "<div>\n",
       "<style scoped>\n",
       "    .dataframe tbody tr th:only-of-type {\n",
       "        vertical-align: middle;\n",
       "    }\n",
       "\n",
       "    .dataframe tbody tr th {\n",
       "        vertical-align: top;\n",
       "    }\n",
       "\n",
       "    .dataframe thead th {\n",
       "        text-align: right;\n",
       "    }\n",
       "</style>\n",
       "<table border=\"1\" class=\"dataframe\">\n",
       "  <thead>\n",
       "    <tr style=\"text-align: right;\">\n",
       "      <th></th>\n",
       "      <th>W</th>\n",
       "      <th>X</th>\n",
       "      <th>Y</th>\n",
       "      <th>Z</th>\n",
       "    </tr>\n",
       "  </thead>\n",
       "  <tbody>\n",
       "    <tr>\n",
       "      <th>A</th>\n",
       "      <td>1.184867</td>\n",
       "      <td>NaN</td>\n",
       "      <td>NaN</td>\n",
       "      <td>NaN</td>\n",
       "    </tr>\n",
       "    <tr>\n",
       "      <th>B</th>\n",
       "      <td>0.028084</td>\n",
       "      <td>0.146719</td>\n",
       "      <td>0.656697</td>\n",
       "      <td>0.758666</td>\n",
       "    </tr>\n",
       "    <tr>\n",
       "      <th>C</th>\n",
       "      <td>NaN</td>\n",
       "      <td>NaN</td>\n",
       "      <td>1.599957</td>\n",
       "      <td>NaN</td>\n",
       "    </tr>\n",
       "    <tr>\n",
       "      <th>D</th>\n",
       "      <td>0.361100</td>\n",
       "      <td>NaN</td>\n",
       "      <td>NaN</td>\n",
       "      <td>0.255651</td>\n",
       "    </tr>\n",
       "    <tr>\n",
       "      <th>E</th>\n",
       "      <td>NaN</td>\n",
       "      <td>NaN</td>\n",
       "      <td>NaN</td>\n",
       "      <td>1.252391</td>\n",
       "    </tr>\n",
       "  </tbody>\n",
       "</table>\n",
       "</div>"
      ],
      "text/plain": [
       "          W         X         Y         Z\n",
       "A  1.184867       NaN       NaN       NaN\n",
       "B  0.028084  0.146719  0.656697  0.758666\n",
       "C       NaN       NaN  1.599957       NaN\n",
       "D  0.361100       NaN       NaN  0.255651\n",
       "E       NaN       NaN       NaN  1.252391"
      ]
     },
     "execution_count": 51,
     "metadata": {},
     "output_type": "execute_result"
    }
   ],
   "source": [
    "#Subsetting based on boolean condition\n",
    "df1[df1>0]"
   ]
  },
  {
   "cell_type": "code",
   "execution_count": 56,
   "metadata": {},
   "outputs": [
    {
     "data": {
      "text/html": [
       "<div>\n",
       "<style scoped>\n",
       "    .dataframe tbody tr th:only-of-type {\n",
       "        vertical-align: middle;\n",
       "    }\n",
       "\n",
       "    .dataframe tbody tr th {\n",
       "        vertical-align: top;\n",
       "    }\n",
       "\n",
       "    .dataframe thead th {\n",
       "        text-align: right;\n",
       "    }\n",
       "</style>\n",
       "<table border=\"1\" class=\"dataframe\">\n",
       "  <thead>\n",
       "    <tr style=\"text-align: right;\">\n",
       "      <th></th>\n",
       "      <th>X</th>\n",
       "      <th>Y</th>\n",
       "      <th>Z</th>\n",
       "    </tr>\n",
       "  </thead>\n",
       "  <tbody>\n",
       "    <tr>\n",
       "      <th>A</th>\n",
       "      <td>-0.260572</td>\n",
       "      <td>-1.205792</td>\n",
       "      <td>-0.499954</td>\n",
       "    </tr>\n",
       "    <tr>\n",
       "      <th>B</th>\n",
       "      <td>0.146719</td>\n",
       "      <td>0.656697</td>\n",
       "      <td>0.758666</td>\n",
       "    </tr>\n",
       "    <tr>\n",
       "      <th>C</th>\n",
       "      <td>-1.879910</td>\n",
       "      <td>1.599957</td>\n",
       "      <td>-1.570406</td>\n",
       "    </tr>\n",
       "    <tr>\n",
       "      <th>D</th>\n",
       "      <td>-0.118617</td>\n",
       "      <td>-0.460104</td>\n",
       "      <td>0.255651</td>\n",
       "    </tr>\n",
       "    <tr>\n",
       "      <th>E</th>\n",
       "      <td>-0.447656</td>\n",
       "      <td>-0.627648</td>\n",
       "      <td>1.252391</td>\n",
       "    </tr>\n",
       "  </tbody>\n",
       "</table>\n",
       "</div>"
      ],
      "text/plain": [
       "          X         Y         Z\n",
       "A -0.260572 -1.205792 -0.499954\n",
       "B  0.146719  0.656697  0.758666\n",
       "C -1.879910  1.599957 -1.570406\n",
       "D -0.118617 -0.460104  0.255651\n",
       "E -0.447656 -0.627648  1.252391"
      ]
     },
     "execution_count": 56,
     "metadata": {},
     "output_type": "execute_result"
    }
   ],
   "source": [
    "#Dropping rows and columns by drop method\n",
    "df1.drop('A',axis=0,inplace=False)\n",
    "# df1.drop('W',axis=1,inplace=False)\n",
    "# df1.drop('W',axis=1,inplace=True)\n",
    "df1"
   ]
  },
  {
   "cell_type": "code",
   "execution_count": 15,
   "metadata": {},
   "outputs": [],
   "source": [
    "# df1['W']"
   ]
  },
  {
   "cell_type": "code",
   "execution_count": 58,
   "metadata": {},
   "outputs": [
    {
     "data": {
      "text/html": [
       "<div>\n",
       "<style scoped>\n",
       "    .dataframe tbody tr th:only-of-type {\n",
       "        vertical-align: middle;\n",
       "    }\n",
       "\n",
       "    .dataframe tbody tr th {\n",
       "        vertical-align: top;\n",
       "    }\n",
       "\n",
       "    .dataframe thead th {\n",
       "        text-align: right;\n",
       "    }\n",
       "</style>\n",
       "<table border=\"1\" class=\"dataframe\">\n",
       "  <thead>\n",
       "    <tr style=\"text-align: right;\">\n",
       "      <th></th>\n",
       "      <th>X</th>\n",
       "      <th>Y</th>\n",
       "    </tr>\n",
       "  </thead>\n",
       "  <tbody>\n",
       "    <tr>\n",
       "      <th>B</th>\n",
       "      <td>0.511004</td>\n",
       "      <td>-0.222594</td>\n",
       "    </tr>\n",
       "    <tr>\n",
       "      <th>C</th>\n",
       "      <td>0.261663</td>\n",
       "      <td>-0.816424</td>\n",
       "    </tr>\n",
       "  </tbody>\n",
       "</table>\n",
       "</div>"
      ],
      "text/plain": [
       "          X         Y\n",
       "B  0.511004 -0.222594\n",
       "C  0.261663 -0.816424"
      ]
     },
     "execution_count": 58,
     "metadata": {},
     "output_type": "execute_result"
    }
   ],
   "source": [
    "#Subsetting plus boolean conditions\n",
    "df1[df1['W']>0][['X','Y']]"
   ]
  },
  {
   "cell_type": "code",
   "execution_count": 61,
   "metadata": {},
   "outputs": [
    {
     "data": {
      "text/html": [
       "<div>\n",
       "<style scoped>\n",
       "    .dataframe tbody tr th:only-of-type {\n",
       "        vertical-align: middle;\n",
       "    }\n",
       "\n",
       "    .dataframe tbody tr th {\n",
       "        vertical-align: top;\n",
       "    }\n",
       "\n",
       "    .dataframe thead th {\n",
       "        text-align: right;\n",
       "    }\n",
       "</style>\n",
       "<table border=\"1\" class=\"dataframe\">\n",
       "  <thead>\n",
       "    <tr style=\"text-align: right;\">\n",
       "      <th></th>\n",
       "      <th>index</th>\n",
       "      <th>W</th>\n",
       "      <th>X</th>\n",
       "      <th>Y</th>\n",
       "      <th>Z</th>\n",
       "    </tr>\n",
       "  </thead>\n",
       "  <tbody>\n",
       "    <tr>\n",
       "      <th>0</th>\n",
       "      <td>A</td>\n",
       "      <td>-0.462573</td>\n",
       "      <td>-0.345286</td>\n",
       "      <td>-0.601126</td>\n",
       "      <td>-0.272274</td>\n",
       "    </tr>\n",
       "    <tr>\n",
       "      <th>1</th>\n",
       "      <td>B</td>\n",
       "      <td>1.146369</td>\n",
       "      <td>0.511004</td>\n",
       "      <td>-0.222594</td>\n",
       "      <td>0.421412</td>\n",
       "    </tr>\n",
       "    <tr>\n",
       "      <th>2</th>\n",
       "      <td>C</td>\n",
       "      <td>0.657211</td>\n",
       "      <td>0.261663</td>\n",
       "      <td>-0.816424</td>\n",
       "      <td>0.418236</td>\n",
       "    </tr>\n",
       "    <tr>\n",
       "      <th>3</th>\n",
       "      <td>D</td>\n",
       "      <td>-2.795874</td>\n",
       "      <td>-0.074652</td>\n",
       "      <td>-0.164761</td>\n",
       "      <td>1.407457</td>\n",
       "    </tr>\n",
       "    <tr>\n",
       "      <th>4</th>\n",
       "      <td>E</td>\n",
       "      <td>-0.215099</td>\n",
       "      <td>0.824519</td>\n",
       "      <td>0.695639</td>\n",
       "      <td>0.960054</td>\n",
       "    </tr>\n",
       "  </tbody>\n",
       "</table>\n",
       "</div>"
      ],
      "text/plain": [
       "  index         W         X         Y         Z\n",
       "0     A -0.462573 -0.345286 -0.601126 -0.272274\n",
       "1     B  1.146369  0.511004 -0.222594  0.421412\n",
       "2     C  0.657211  0.261663 -0.816424  0.418236\n",
       "3     D -2.795874 -0.074652 -0.164761  1.407457\n",
       "4     E -0.215099  0.824519  0.695639  0.960054"
      ]
     },
     "execution_count": 61,
     "metadata": {},
     "output_type": "execute_result"
    }
   ],
   "source": [
    "#Reset indexing \n",
    "df3 = df1.reset_index(drop =False)\n",
    "df3"
   ]
  },
  {
   "cell_type": "code",
   "execution_count": 62,
   "metadata": {},
   "outputs": [
    {
     "data": {
      "text/html": [
       "<div>\n",
       "<style scoped>\n",
       "    .dataframe tbody tr th:only-of-type {\n",
       "        vertical-align: middle;\n",
       "    }\n",
       "\n",
       "    .dataframe tbody tr th {\n",
       "        vertical-align: top;\n",
       "    }\n",
       "\n",
       "    .dataframe thead th {\n",
       "        text-align: right;\n",
       "    }\n",
       "</style>\n",
       "<table border=\"1\" class=\"dataframe\">\n",
       "  <thead>\n",
       "    <tr style=\"text-align: right;\">\n",
       "      <th></th>\n",
       "      <th>W</th>\n",
       "      <th>X</th>\n",
       "      <th>Y</th>\n",
       "    </tr>\n",
       "    <tr>\n",
       "      <th>Z</th>\n",
       "      <th></th>\n",
       "      <th></th>\n",
       "      <th></th>\n",
       "    </tr>\n",
       "  </thead>\n",
       "  <tbody>\n",
       "    <tr>\n",
       "      <th>-0.272274</th>\n",
       "      <td>-0.462573</td>\n",
       "      <td>-0.345286</td>\n",
       "      <td>-0.601126</td>\n",
       "    </tr>\n",
       "    <tr>\n",
       "      <th>0.421412</th>\n",
       "      <td>1.146369</td>\n",
       "      <td>0.511004</td>\n",
       "      <td>-0.222594</td>\n",
       "    </tr>\n",
       "    <tr>\n",
       "      <th>0.418236</th>\n",
       "      <td>0.657211</td>\n",
       "      <td>0.261663</td>\n",
       "      <td>-0.816424</td>\n",
       "    </tr>\n",
       "    <tr>\n",
       "      <th>1.407457</th>\n",
       "      <td>-2.795874</td>\n",
       "      <td>-0.074652</td>\n",
       "      <td>-0.164761</td>\n",
       "    </tr>\n",
       "    <tr>\n",
       "      <th>0.960054</th>\n",
       "      <td>-0.215099</td>\n",
       "      <td>0.824519</td>\n",
       "      <td>0.695639</td>\n",
       "    </tr>\n",
       "  </tbody>\n",
       "</table>\n",
       "</div>"
      ],
      "text/plain": [
       "                  W         X         Y\n",
       "Z                                      \n",
       "-0.272274 -0.462573 -0.345286 -0.601126\n",
       " 0.421412  1.146369  0.511004 -0.222594\n",
       " 0.418236  0.657211  0.261663 -0.816424\n",
       " 1.407457 -2.795874 -0.074652 -0.164761\n",
       " 0.960054 -0.215099  0.824519  0.695639"
      ]
     },
     "execution_count": 62,
     "metadata": {},
     "output_type": "execute_result"
    }
   ],
   "source": [
    "#setting indexes\n",
    "df4 = df1.set_index('Z')\n",
    "df4"
   ]
  },
  {
   "cell_type": "code",
   "execution_count": 70,
   "metadata": {},
   "outputs": [
    {
     "name": "stdout",
     "output_type": "stream",
     "text": [
      "     A    B  C\n",
      "0  1.0  1.0  1\n",
      "1  2.0  NaN  2\n",
      "2  NaN  NaN  3\n"
     ]
    },
    {
     "data": {
      "text/html": [
       "<div>\n",
       "<style scoped>\n",
       "    .dataframe tbody tr th:only-of-type {\n",
       "        vertical-align: middle;\n",
       "    }\n",
       "\n",
       "    .dataframe tbody tr th {\n",
       "        vertical-align: top;\n",
       "    }\n",
       "\n",
       "    .dataframe thead th {\n",
       "        text-align: right;\n",
       "    }\n",
       "</style>\n",
       "<table border=\"1\" class=\"dataframe\">\n",
       "  <thead>\n",
       "    <tr style=\"text-align: right;\">\n",
       "      <th></th>\n",
       "      <th>A</th>\n",
       "      <th>B</th>\n",
       "      <th>C</th>\n",
       "    </tr>\n",
       "  </thead>\n",
       "  <tbody>\n",
       "    <tr>\n",
       "      <th>0</th>\n",
       "      <td>1.0</td>\n",
       "      <td>1.0</td>\n",
       "      <td>1</td>\n",
       "    </tr>\n",
       "    <tr>\n",
       "      <th>1</th>\n",
       "      <td>2.0</td>\n",
       "      <td>NaN</td>\n",
       "      <td>2</td>\n",
       "    </tr>\n",
       "  </tbody>\n",
       "</table>\n",
       "</div>"
      ],
      "text/plain": [
       "     A    B  C\n",
       "0  1.0  1.0  1\n",
       "1  2.0  NaN  2"
      ]
     },
     "execution_count": 70,
     "metadata": {},
     "output_type": "execute_result"
    }
   ],
   "source": [
    "#Dropping missing values\n",
    "d={'A':[1,2,np.NaN], 'B':[1,np.NaN,np.NaN],'C':[1,2,3]}\n",
    "# np.NaN is the missing element in DataFrame\n",
    "df5=pd.DataFrame(d)\n",
    "print(df5)\n",
    "# df5.dropna()       #drop any row with missing value\n",
    "# df5.dropna(axis=1) #drop column with NULL value\n",
    "df5.dropna(thresh=2) #Require <2 non-NA values to drop row."
   ]
  },
  {
   "cell_type": "code",
   "execution_count": 71,
   "metadata": {},
   "outputs": [
    {
     "data": {
      "text/plain": [
       "0    1.0\n",
       "1    1.0\n",
       "2    1.0\n",
       "Name: B, dtype: float64"
      ]
     },
     "execution_count": 71,
     "metadata": {},
     "output_type": "execute_result"
    }
   ],
   "source": [
    "#Filling missing values with something\n",
    "df5['B'].fillna(value=df5['B'].mean())"
   ]
  },
  {
   "cell_type": "code",
   "execution_count": 72,
   "metadata": {},
   "outputs": [
    {
     "name": "stdout",
     "output_type": "stream",
     "text": [
      "    one   two\n",
      "0    10  1000\n",
      "1    20     0\n",
      "2    30    30\n",
      "3    40    40\n",
      "4    50    50\n",
      "5  2000    60\n",
      "   one  two\n",
      "0   10   10\n",
      "1   20    0\n",
      "2   30   30\n",
      "3   40   40\n",
      "4   50   50\n",
      "5   60   60\n"
     ]
    }
   ],
   "source": [
    "#Replacing specific values\n",
    "df5 = pd.DataFrame({'one':[10,20,30,40,50,2000], 'two':[1000,0,30,40,50,60]})\n",
    "print(df5)\n",
    "print(df5.replace({1000:10,2000:60}))"
   ]
  },
  {
   "cell_type": "code",
   "execution_count": 74,
   "metadata": {},
   "outputs": [
    {
     "name": "stdout",
     "output_type": "stream",
     "text": [
      "  Company   Person  Sales\n",
      "0   CompA   Rajesh    200\n",
      "1   CompA  Pradeep    120\n",
      "2   CompB     Amit    340\n",
      "3   CompB   Rakesh    124\n",
      "4   CompC   Suresh    243\n",
      "5   CompC      Raj    350\n"
     ]
    },
    {
     "data": {
      "text/plain": [
       "Company\n",
       "CompA    320\n",
       "CompB    464\n",
       "CompC    593\n",
       "Name: Sales, dtype: int64"
      ]
     },
     "execution_count": 74,
     "metadata": {},
     "output_type": "execute_result"
    }
   ],
   "source": [
    "#Groupby function\n",
    "data = {'Company': [ 'CompA', 'CompA', 'CompB', 'CompB', 'CompC', 'CompC'],\n",
    "        'Person': ['Rajesh', 'Pradeep', 'Amit', 'Rakesh', 'Suresh', 'Raj'],\n",
    "        'Sales': [200, 120, 340, 124, 243, 350]}\n",
    "df6=pd.DataFrame(data)\n",
    "print(df6)\n",
    "comp=df6.groupby(\"Company\")['Sales'].sum()#grouping done using label name “Company”\n",
    "comp\n"
   ]
  },
  {
   "cell_type": "code",
   "execution_count": 76,
   "metadata": {},
   "outputs": [
    {
     "name": "stdout",
     "output_type": "stream",
     "text": [
      "   col1  col2 col3\n",
      "0     1   444  abc\n",
      "1     2   555  def\n",
      "2     3   666  ghi\n",
      "3     4   444  xyz\n",
      "[444 555 666]\n",
      "444    2\n",
      "555    1\n",
      "666    1\n",
      "Name: col2, dtype: int64\n"
     ]
    }
   ],
   "source": [
    "#Finding unique value & number of occurrence from Dataframe\n",
    "\n",
    "df = pd.DataFrame({'col1':[1,2,3,4],'col2':[444,555,666,444],'col3':['abc','def','ghi','xyz']})\n",
    "print(df)\n",
    "\n",
    "# col1, col2 & col3 are column labels, each column have their own values\n",
    "print(df['col2'].unique()) #fetches the unique values available in column\n",
    "\n",
    "print(df['col2'].value_counts()) # count number of occurance of every value"
   ]
  },
  {
   "cell_type": "code",
   "execution_count": 78,
   "metadata": {},
   "outputs": [
    {
     "name": "stdout",
     "output_type": "stream",
     "text": [
      "      Series_reference   Period  Data_value  Suppressed STATUS    UNITS  \\\n",
      "0           ECTA.S19A1  2001.03      2462.5         NaN      F  Dollars   \n",
      "1           ECTA.S19A1  2002.03     17177.2         NaN      F  Dollars   \n",
      "2           ECTA.S19A1  2003.03     22530.5         NaN      F  Dollars   \n",
      "3           ECTA.S19A1  2004.03     28005.1         NaN      F  Dollars   \n",
      "4           ECTA.S19A1  2005.03     30629.6         NaN      F  Dollars   \n",
      "...                ...      ...         ...         ...    ...      ...   \n",
      "16673       ECTQ.S4AXP  2018.12        44.4         NaN      F  Percent   \n",
      "16674       ECTQ.S4AXP  2019.03        43.5         NaN      F  Percent   \n",
      "16675       ECTQ.S4AXP  2019.06        44.9         NaN      F  Percent   \n",
      "16676       ECTQ.S4AXP  2019.09        44.9         NaN      F  Percent   \n",
      "16677       ECTQ.S4AXP  2019.12        43.6         NaN      F  Percent   \n",
      "\n",
      "       Magnitude                                        Subject  \\\n",
      "0              6  Electronic Card Transactions (ANZSIC06) - ECT   \n",
      "1              6  Electronic Card Transactions (ANZSIC06) - ECT   \n",
      "2              6  Electronic Card Transactions (ANZSIC06) - ECT   \n",
      "3              6  Electronic Card Transactions (ANZSIC06) - ECT   \n",
      "4              6  Electronic Card Transactions (ANZSIC06) - ECT   \n",
      "...          ...                                            ...   \n",
      "16673          0  Electronic Card Transactions (ANZSIC06) - ECT   \n",
      "16674          0  Electronic Card Transactions (ANZSIC06) - ECT   \n",
      "16675          0  Electronic Card Transactions (ANZSIC06) - ECT   \n",
      "16676          0  Electronic Card Transactions (ANZSIC06) - ECT   \n",
      "16677          0  Electronic Card Transactions (ANZSIC06) - ECT   \n",
      "\n",
      "                                                   Group Series_title_1  \\\n",
      "0      Total values - Electronic card transactions A/...         Actual   \n",
      "1      Total values - Electronic card transactions A/...         Actual   \n",
      "2      Total values - Electronic card transactions A/...         Actual   \n",
      "3      Total values - Electronic card transactions A/...         Actual   \n",
      "4      Total values - Electronic card transactions A/...         Actual   \n",
      "...                                                  ...            ...   \n",
      "16673  Electronic card transactions by mean and propo...         Actual   \n",
      "16674  Electronic card transactions by mean and propo...         Actual   \n",
      "16675  Electronic card transactions by mean and propo...         Actual   \n",
      "16676  Electronic card transactions by mean and propo...         Actual   \n",
      "16677  Electronic card transactions by mean and propo...         Actual   \n",
      "\n",
      "                                          Series_title_2  Series_title_3  \\\n",
      "0                                   RTS total industries             NaN   \n",
      "1                                   RTS total industries             NaN   \n",
      "2                                   RTS total industries             NaN   \n",
      "3                                   RTS total industries             NaN   \n",
      "4                                   RTS total industries             NaN   \n",
      "...                                                  ...             ...   \n",
      "16673  Debit card usage as a proportion of total ECT ...  Proportion (%)   \n",
      "16674  Debit card usage as a proportion of total ECT ...  Proportion (%)   \n",
      "16675  Debit card usage as a proportion of total ECT ...  Proportion (%)   \n",
      "16676  Debit card usage as a proportion of total ECT ...  Proportion (%)   \n",
      "16677  Debit card usage as a proportion of total ECT ...  Proportion (%)   \n",
      "\n",
      "       Series_title_4  Series_title_5  \n",
      "0                 NaN             NaN  \n",
      "1                 NaN             NaN  \n",
      "2                 NaN             NaN  \n",
      "3                 NaN             NaN  \n",
      "4                 NaN             NaN  \n",
      "...               ...             ...  \n",
      "16673             NaN             NaN  \n",
      "16674             NaN             NaN  \n",
      "16675             NaN             NaN  \n",
      "16676             NaN             NaN  \n",
      "16677             NaN             NaN  \n",
      "\n",
      "[16678 rows x 14 columns]\n"
     ]
    }
   ],
   "source": [
    "#File Handling\n",
    "\n",
    "#Reading from a file\n",
    "df6 = pd.read_csv(\"test1.csv\")\n",
    "print(df6)\n",
    "\n",
    "#Writing to a file\n",
    "df6.to_csv('data.csv')\n",
    "\n",
    "# Read a Excel File\n",
    "# df = pd.read_excel('filename_with_path',sheet_name='SheetName')\n",
    "# Write a Excel File with Single sheet\n",
    "# df.to_excel('filename_with_path',sheet_name='SheetName')"
   ]
  },
  {
   "cell_type": "code",
   "execution_count": null,
   "metadata": {},
   "outputs": [],
   "source": []
  }
 ],
 "metadata": {
  "kernelspec": {
   "display_name": "Python 3",
   "language": "python",
   "name": "python3"
  },
  "language_info": {
   "codemirror_mode": {
    "name": "ipython",
    "version": 3
   },
   "file_extension": ".py",
   "mimetype": "text/x-python",
   "name": "python",
   "nbconvert_exporter": "python",
   "pygments_lexer": "ipython3",
   "version": "3.6.9"
  }
 },
 "nbformat": 4,
 "nbformat_minor": 4
}
