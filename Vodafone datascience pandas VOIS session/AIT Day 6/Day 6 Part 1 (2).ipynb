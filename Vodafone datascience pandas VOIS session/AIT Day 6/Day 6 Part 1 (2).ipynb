{
 "cells": [
  {
   "cell_type": "markdown",
   "metadata": {},
   "source": [
    "# Pandas Remaining"
   ]
  },
  {
   "cell_type": "code",
   "execution_count": null,
   "metadata": {},
   "outputs": [],
   "source": [
    "d={'A':[1,2,np.NaN], 'B':[1,np.NaN,np.NaN],'C':[1,2,3]}     \n",
    "# np.NaN is the missing element in DataFrame\n",
    "df4=pd.DataFrame(d)\n",
    "print(df4)"
   ]
  },
  {
   "cell_type": "code",
   "execution_count": null,
   "metadata": {},
   "outputs": [],
   "source": [
    "# df4.dropna()         #pandas would drop any row with missing value\n",
    "# df4.dropna(axis=1)   #drop column with NULL value\n",
    "df4.dropna(thresh=2) #Require <2 non-NA values to drop row."
   ]
  },
  {
   "cell_type": "markdown",
   "metadata": {},
   "source": [
    "### Groupby"
   ]
  },
  {
   "cell_type": "code",
   "execution_count": null,
   "metadata": {},
   "outputs": [],
   "source": [
    "ata = {'Company': [ 'A', 'A', 'B', 'B', 'C', 'C'],\n",
    "        'Person': ['Rajesh', 'Pradeep', 'Amit', 'Rakesh', 'Suresh', 'Raj'],\n",
    "        'Sales': [200, 120, 340, 124, 243, 350]}\n",
    "df6=pd.DataFrame(data)\n",
    "print(df6)"
   ]
  },
  {
   "cell_type": "code",
   "execution_count": null,
   "metadata": {},
   "outputs": [],
   "source": [
    "comp=df6.groupby(\"Company\")             #grouping done using label name “Company”\n",
    "print(comp.max())                      #mean appliead on grouped data"
   ]
  },
  {
   "cell_type": "markdown",
   "metadata": {},
   "source": [
    "### Finding unique value & number of occurrence from Dataframe"
   ]
  },
  {
   "cell_type": "code",
   "execution_count": null,
   "metadata": {},
   "outputs": [],
   "source": [
    "df7 = pd.DataFrame({'col1':[1,0,1,1],'col2':['a','b','b','a']})\n",
    "print(df7)\n",
    "# df7['col2'].unique()#fetches the unique values available in column\n",
    "# df7['col2'].value_counts()# count number of occurance of every value"
   ]
  },
  {
   "cell_type": "code",
   "execution_count": null,
   "metadata": {},
   "outputs": [],
   "source": []
  },
  {
   "cell_type": "markdown",
   "metadata": {},
   "source": [
    "### File Handling"
   ]
  },
  {
   "cell_type": "code",
   "execution_count": null,
   "metadata": {},
   "outputs": [],
   "source": [
    "# # csv\n",
    "# df1 = pd.read_csv('covid_19_india.csv')\n",
    "# df1"
   ]
  },
  {
   "cell_type": "code",
   "execution_count": null,
   "metadata": {},
   "outputs": [],
   "source": [
    "# df2 = pd.DataFrame({'C1' : [1, 2, 3], 'C2' : [4, 5, 6], 'C3' : [7, 8, 9]})\n",
    "# print(df2)\n",
    "# df2.to_csv('new.csv')"
   ]
  },
  {
   "cell_type": "code",
   "execution_count": null,
   "metadata": {},
   "outputs": [],
   "source": [
    "# Excel\n",
    "# df3 = pd.read_excel('Demo.xlsx',sheet_name='Sheet1')\n",
    "# df3\n",
    "# df4 = pd.read_excel('Demo.xlsx',sheet_name='Sheet2')\n",
    "# df4"
   ]
  },
  {
   "cell_type": "code",
   "execution_count": null,
   "metadata": {},
   "outputs": [],
   "source": [
    "# df5 = pd.DataFrame({'C1' : [1, 1, 1], 'C2' : [2, 2, 2], 'C3' : [3, 3, 3]})\n",
    "# df5\n",
    "# df5.to_excel('new.xlsx', sheet_name='a')"
   ]
  },
  {
   "cell_type": "markdown",
   "metadata": {},
   "source": [
    "# Matplotlib"
   ]
  },
  {
   "cell_type": "code",
   "execution_count": null,
   "metadata": {},
   "outputs": [],
   "source": [
    "#Import matplotlib functions\n",
    "import matplotlib.pyplot as plt"
   ]
  },
  {
   "cell_type": "code",
   "execution_count": null,
   "metadata": {},
   "outputs": [],
   "source": [
    "#Plotting to our canvas\n",
    "plt.plot([1,2,3],[4,5,1])\n",
    "#Save figure as 1st.png\n",
    "plt.savefig('1.png')\n",
    "#Showing what we plotted\n",
    "plt.show()"
   ]
  },
  {
   "cell_type": "code",
   "execution_count": null,
   "metadata": {},
   "outputs": [],
   "source": [
    "#Quantities to be plotted\n",
    "x = [2,3,4,5]\n",
    "y = [4,9,16,25]\n",
    "plt.plot(x,y)                             #Plotting function\n",
    "plt.title(\"Sqaures of numbers\")           #Setting title for our plot\n",
    "plt.xlabel(\"Numbers\")                     #Setting up name for x axis\n",
    "plt.ylabel(\"Squares of the numbers\")      #Setting up name for y axis\n",
    "plt.savefig('sal 2.png')                  #Save figure as 2.png\n",
    "plt.show()                                #Showing what we have plotted"
   ]
  },
  {
   "cell_type": "code",
   "execution_count": null,
   "metadata": {},
   "outputs": [],
   "source": [
    "# A scatter plot uses dots to represent values for two different numeric variables.\n",
    "# The position of each dot on the horizontal and vertical axis indicates values for an individual data point.\n",
    "# Scatter plots are used to observe relationships between variables.\n",
    "x = [1,2,3,4,5]\n",
    "y = [1,4,9,16,25]\n",
    "z = [1,8,27,64,125]\n",
    "plt.scatter(x,y, label='Square',color='r')\n",
    "plt.scatter(x,z, label='Cube',color='b')\n",
    "plt.xlabel('Point Value')\n",
    "plt.ylabel('Square and Cube')\n",
    "plt.title('Scatter Plot')\n",
    "plt.legend()\n",
    "plt.savefig('3.png')\n",
    "plt.show()"
   ]
  },
  {
   "cell_type": "code",
   "execution_count": null,
   "metadata": {},
   "outputs": [],
   "source": [
    "#Bar graph\n",
    "# Bar graphs can be used to show how something changes over time or to compare items.\n",
    "# They have an x-axis (horizontal) and a y-axis (vertical).\n",
    "# Typically, the x-axis has numbers for the time period or what is being measured\n",
    "# Typically, the y-axis has numbers for the amount of stuff being measured.\n",
    "\n",
    "#Quantities for plotting\n",
    "divisions = [\"A\",\"B\",\"C\",\"D\"]\n",
    "Boys_passed = [15,14,13,20]\n",
    "plt.bar(divisions ,Boys_passed , width = .8, color = \"green\") #Plotting these in the form of bar graph\n",
    "plt.title(\"Noof of Boys passed per divisions\")           #Giving name to our plot\n",
    "#Naming the axes \n",
    "plt.xlabel(\"Divisions\")\n",
    "plt.ylabel(\"Boys Passed\")\n",
    "plt.savefig('4.png')\n",
    "plt.show()#Showing what we have plotted"
   ]
  },
  {
   "cell_type": "code",
   "execution_count": null,
   "metadata": {},
   "outputs": [],
   "source": [
    "#Plotting histograms\n",
    "# A histogram is an approximate representation of the distribution of numerical data.\n",
    "\n",
    "#Quantities under consideration\n",
    "population_age =[22,55,62,45,21,22,34,42,42,4,2,102,95,85,55,110,120,70,65,55,111,115,\n",
    "80,75,65,54,44,43,42,48]\n",
    "#Defining containers aka bins of values\n",
    "bins = [0,10,20,30,40,50,60,70,80,90,100]\n",
    "#Plotting histogram\n",
    "plt.hist(population_age, bins, histtype='bar', rwidth=0.3)\n",
    "#Defining labels\n",
    "plt.xlabel('age groups')\n",
    "plt.ylabel('Number of people')\n",
    "#Defining title for our graph\n",
    "plt.title('Histogram')\n",
    "plt.savefig('5.png')\n",
    "#Showing the plot\n",
    "plt.show()"
   ]
  },
  {
   "cell_type": "code",
   "execution_count": null,
   "metadata": {},
   "outputs": [],
   "source": [
    "#Pie chart\n",
    "# A pie chart is a circular statistical graphic, which is divided into slices to illustrate numerical proportion.\n",
    "# The arc length of each slice (also central angle and area), is proportional to the quantity it represents.\n",
    "#Quantities for plotting\n",
    "cities = [\"Mumbai\",\"Delhi\",\"Banglore\",\"Kolkata\"]\n",
    "population = [12691836,10927986,5104047,4631392]\n",
    "#Defining colors for plot\n",
    "colors = [\"red\",\"orange\",\"blue\",\"green\"]\n",
    "# Plotting pie chart\n",
    "plt.pie(population, labels=cities,explode = [0,0,0,0] ,counterclock = False, colors=colors, autopct='%1.2f%%',shadow=False, startangle=90)\n",
    "#Defining the title of our plot\n",
    "plt.title(\"Polulation of megacities of India\")\n",
    "plt.savefig('6.png')\n",
    "#Show what we have plotted\n",
    "plt.show()"
   ]
  },
  {
   "cell_type": "code",
   "execution_count": null,
   "metadata": {},
   "outputs": [],
   "source": []
  }
 ],
 "metadata": {
  "kernelspec": {
   "display_name": "Python 3",
   "language": "python",
   "name": "python3"
  },
  "language_info": {
   "codemirror_mode": {
    "name": "ipython",
    "version": 3
   },
   "file_extension": ".py",
   "mimetype": "text/x-python",
   "name": "python",
   "nbconvert_exporter": "python",
   "pygments_lexer": "ipython3",
   "version": "3.7.6"
  }
 },
 "nbformat": 4,
 "nbformat_minor": 4
}
